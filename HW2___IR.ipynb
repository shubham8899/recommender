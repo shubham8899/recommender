{
  "nbformat": 4,
  "nbformat_minor": 0,
  "metadata": {
    "colab": {
      "name": "HW2 | IR",
      "provenance": []
    },
    "kernelspec": {
      "name": "python3",
      "display_name": "Python 3"
    },
    "language_info": {
      "name": "python"
    }
  },
  "cells": [
    {
      "cell_type": "markdown",
      "source": [
        "## Imports"
      ],
      "metadata": {
        "id": "F2yBdaz5Ve7S"
      }
    },
    {
      "cell_type": "code",
      "source": [
        "!pip install surprise\n",
        "from surprise import KNNWithMeans\n",
        "from surprise import Dataset\n",
        "from surprise import accuracy\n",
        "from surprise import Reader\n",
        "from surprise.model_selection import train_test_split\n",
        "from sklearn.model_selection import train_test_split as tts\n",
        "import os\n",
        "import pandas as pd\n",
        "import numpy as np\n",
        "from sklearn.ensemble import RandomForestClassifier\n",
        "from sklearn.metrics import classification_report, confusion_matrix, accuracy_score\n",
        "from math import sqrt"
      ],
      "metadata": {
        "id": "KkGlrzZY16-D"
      },
      "execution_count": null,
      "outputs": []
    },
    {
      "cell_type": "code",
      "source": [
        "from surprise import prediction_algorithms"
      ],
      "metadata": {
        "id": "10mTMyNBdPfo"
      },
      "execution_count": 2,
      "outputs": []
    },
    {
      "cell_type": "markdown",
      "source": [
        "## Cleaning the Dataset, creating train, test CSVs (Do Not Run)"
      ],
      "metadata": {
        "id": "T0cCw_ovOv21"
      }
    },
    {
      "cell_type": "code",
      "execution_count": null,
      "metadata": {
        "id": "ds6sVxM31f3N"
      },
      "outputs": [],
      "source": [
        "!wget http://deepyeti.ucsd.edu/jianmo/amazon/categoryFilesSmall/Musical_Instruments_5.json.gz"
      ]
    },
    {
      "cell_type": "code",
      "source": [
        "!gzip -dk /content/Musical_Instruments_5.json.gz"
      ],
      "metadata": {
        "id": "Y58Se1ObnJEl"
      },
      "execution_count": 52,
      "outputs": []
    },
    {
      "cell_type": "code",
      "source": [
        "df = pd.read_json('/content/Musical_Instruments_5.json', lines = True)\n",
        "df.drop(['verified', 'reviewTime', 'style', 'reviewerName', 'summary', 'unixReviewTime', 'vote', 'image'], axis=1, inplace=True)"
      ],
      "metadata": {
        "id": "c1vDhVKI1uL9"
      },
      "execution_count": 54,
      "outputs": []
    },
    {
      "cell_type": "code",
      "source": [
        "df.to_csv('/content/drive/MyDrive/INFORMATION RETRIEVAL/HW2 RECOMMENDATION SYSTEM/train.csv', index=False)"
      ],
      "metadata": {
        "id": "_iLunwe9jdtN"
      },
      "execution_count": 82,
      "outputs": []
    },
    {
      "cell_type": "markdown",
      "source": [
        "##Loading Dataset"
      ],
      "metadata": {
        "id": "XYN0hWmZkuWV"
      }
    },
    {
      "cell_type": "code",
      "source": [
        "dataset = pd.read_csv('/content/drive/MyDrive/INFORMATION RETRIEVAL/HW2 RECOMMENDATION SYSTEM/dataset.csv')"
      ],
      "metadata": {
        "id": "ICCSjhbxkw64"
      },
      "execution_count": 103,
      "outputs": []
    },
    {
      "cell_type": "code",
      "source": [
        "dataset = dataset[['reviewerID','asin', 'overall']]"
      ],
      "metadata": {
        "id": "685smyxblgdW"
      },
      "execution_count": 104,
      "outputs": []
    },
    {
      "cell_type": "code",
      "source": [
        "reader = Reader(rating_scale=(1, 5))\n",
        "dataset = Dataset.load_from_df(dataset, reader)"
      ],
      "metadata": {
        "id": "UeL8PpGwdw3W"
      },
      "execution_count": 105,
      "outputs": []
    },
    {
      "cell_type": "code",
      "source": [
        "# train = pd.read_csv('/content/drive/MyDrive/INFORMATION RETRIEVAL/HW2 RECOMMENDATION SYSTEM/train.csv')\n",
        "# test = pd.read_csv('/content/drive/MyDrive/INFORMATION RETRIEVAL/HW2 RECOMMENDATION SYSTEM/test.csv')"
      ],
      "metadata": {
        "id": "FCOnoR7cJ80M"
      },
      "execution_count": 106,
      "outputs": []
    },
    {
      "cell_type": "code",
      "source": [
        "# train = train[['reviewerID','asin', 'overall']]\n",
        "# test = test[['reviewerID','asin', 'overall']]"
      ],
      "metadata": {
        "id": "ZqRB-cGQKA_P"
      },
      "execution_count": 107,
      "outputs": []
    },
    {
      "cell_type": "markdown",
      "source": [
        "## Collaborative Filtering - Item Based Recommendation"
      ],
      "metadata": {
        "id": "V7-ArV7MwdVY"
      }
    },
    {
      "cell_type": "code",
      "source": [
        "# reader = Reader(rating_scale=(1, 5))\n",
        "# dataset = Dataset.load_from_df(dataset, reader)\n",
        "# train = Dataset.load_from_df(train, reader)\n",
        "# test = Dataset.load_from_df(test, reader)"
      ],
      "metadata": {
        "id": "mv-5ifDJ3Mh8"
      },
      "execution_count": 63,
      "outputs": []
    },
    {
      "cell_type": "code",
      "source": [
        "trainset, testset = train_test_split(dataset, test_size=0.2, random_state=10)"
      ],
      "metadata": {
        "id": "BfuT5BCjMyDm"
      },
      "execution_count": 108,
      "outputs": []
    },
    {
      "cell_type": "code",
      "source": [
        "knn = KNNWithMeans(k=5, sim_options={'name': 'pearson_baseline', 'user_based': False})\n",
        "knn.fit(trainset)"
      ],
      "metadata": {
        "colab": {
          "base_uri": "https://localhost:8080/"
        },
        "id": "k-9oLALJ3OEc",
        "outputId": "d16aed47-16db-4116-d110-8638592003d9"
      },
      "execution_count": 109,
      "outputs": [
        {
          "output_type": "stream",
          "name": "stdout",
          "text": [
            "Estimating biases using als...\n",
            "Computing the pearson_baseline similarity matrix...\n",
            "Done computing similarity matrix.\n"
          ]
        },
        {
          "output_type": "execute_result",
          "data": {
            "text/plain": [
              "<surprise.prediction_algorithms.knns.KNNWithMeans at 0x7ffaf7583b50>"
            ]
          },
          "metadata": {},
          "execution_count": 109
        }
      ]
    },
    {
      "cell_type": "code",
      "source": [
        "test_pred = knn.test(testset)"
      ],
      "metadata": {
        "id": "dv6GYcqS4Nbr"
      },
      "execution_count": 110,
      "outputs": []
    },
    {
      "cell_type": "code",
      "source": [
        "accuracy.rmse(test_pred, verbose=True)"
      ],
      "metadata": {
        "colab": {
          "base_uri": "https://localhost:8080/"
        },
        "id": "-5M7OE9J8Lse",
        "outputId": "a9e52c9f-52ea-4a49-add6-3e128dce7fad"
      },
      "execution_count": 111,
      "outputs": [
        {
          "output_type": "stream",
          "name": "stdout",
          "text": [
            "RMSE: 0.9614\n"
          ]
        },
        {
          "output_type": "execute_result",
          "data": {
            "text/plain": [
              "0.9614017609355584"
            ]
          },
          "metadata": {},
          "execution_count": 111
        }
      ]
    },
    {
      "cell_type": "code",
      "source": [
        "accuracy.mae(test_pred, verbose=True)"
      ],
      "metadata": {
        "colab": {
          "base_uri": "https://localhost:8080/"
        },
        "id": "byJbqwFZ8oKG",
        "outputId": "bf10bfba-b9c5-4b01-a796-36ce1d8bbd0d"
      },
      "execution_count": 112,
      "outputs": [
        {
          "output_type": "stream",
          "name": "stdout",
          "text": [
            "MAE:  0.6009\n"
          ]
        },
        {
          "output_type": "execute_result",
          "data": {
            "text/plain": [
              "0.600927166802767"
            ]
          },
          "metadata": {},
          "execution_count": 112
        }
      ]
    },
    {
      "cell_type": "markdown",
      "source": [
        "##Matrix Factorization\n",
        "Using SVD on a sparse matrix to predict ratings."
      ],
      "metadata": {
        "id": "6ssozQOYRUA3"
      }
    },
    {
      "cell_type": "code",
      "source": [
        "trainset, testset = train_test_split(dataset, test_size=0.2, random_state=10)"
      ],
      "metadata": {
        "id": "G9jrmAoRcAG5"
      },
      "execution_count": 113,
      "outputs": []
    },
    {
      "cell_type": "code",
      "source": [
        "matrix_fact = prediction_algorithms.matrix_factorization.SVD(verbose=True, n_epochs = 50)\n",
        "matrix_fact.fit(trainset)"
      ],
      "metadata": {
        "id": "S4zk56oPcKUS"
      },
      "execution_count": null,
      "outputs": []
    },
    {
      "cell_type": "code",
      "source": [
        "test_pred = matrix_fact.test(testset)"
      ],
      "metadata": {
        "id": "_kxITdYldiTo"
      },
      "execution_count": 115,
      "outputs": []
    },
    {
      "cell_type": "code",
      "source": [
        "accuracy.rmse(test_pred, verbose=True)"
      ],
      "metadata": {
        "colab": {
          "base_uri": "https://localhost:8080/"
        },
        "id": "lHnc4VVrdlv9",
        "outputId": "59f22b8d-40ba-4081-d118-6dc3bfc1400e"
      },
      "execution_count": 116,
      "outputs": [
        {
          "output_type": "stream",
          "name": "stdout",
          "text": [
            "RMSE: 0.8909\n"
          ]
        },
        {
          "output_type": "execute_result",
          "data": {
            "text/plain": [
              "0.8909225698878386"
            ]
          },
          "metadata": {},
          "execution_count": 116
        }
      ]
    },
    {
      "cell_type": "code",
      "source": [
        "accuracy.mae(test_pred, verbose=True)"
      ],
      "metadata": {
        "colab": {
          "base_uri": "https://localhost:8080/"
        },
        "id": "yuUtWpJwdoWU",
        "outputId": "79f2dcec-bd2e-4125-cc91-3dc5efad65a9"
      },
      "execution_count": 117,
      "outputs": [
        {
          "output_type": "stream",
          "name": "stdout",
          "text": [
            "MAE:  0.5886\n"
          ]
        },
        {
          "output_type": "execute_result",
          "data": {
            "text/plain": [
              "0.5886068209262666"
            ]
          },
          "metadata": {},
          "execution_count": 117
        }
      ]
    },
    {
      "cell_type": "markdown",
      "source": [
        "## Custom Algorithm, Using Machine Learning"
      ],
      "metadata": {
        "id": "15iGeQySH74a"
      }
    },
    {
      "cell_type": "code",
      "source": [
        "dataset = pd.read_csv('/content/drive/MyDrive/INFORMATION RETRIEVAL/HW2 RECOMMENDATION SYSTEM/dataset.csv')"
      ],
      "metadata": {
        "id": "F9HlUF23IJDs"
      },
      "execution_count": 118,
      "outputs": []
    },
    {
      "cell_type": "code",
      "source": [
        "dataset = dataset.dropna()"
      ],
      "metadata": {
        "id": "IuvMjaS9Ih0L"
      },
      "execution_count": 119,
      "outputs": []
    },
    {
      "cell_type": "code",
      "source": [
        "reviews_groupby_users_Ratings = dataset.groupby('reviewerID')['overall']"
      ],
      "metadata": {
        "id": "HqVLVt6oKIzt"
      },
      "execution_count": 120,
      "outputs": []
    },
    {
      "cell_type": "code",
      "source": [
        "reviews_groupby_users_Ratings = pd.DataFrame(reviews_groupby_users_Ratings.count())"
      ],
      "metadata": {
        "id": "9IlUQ2jhKpCl"
      },
      "execution_count": 121,
      "outputs": []
    },
    {
      "cell_type": "code",
      "source": [
        "user_list_min50_ratings = reviews_groupby_users_Ratings[reviews_groupby_users_Ratings['overall'] >= 50].index\n",
        "dataset =  dataset[dataset['reviewerID'].isin(user_list_min50_ratings)]"
      ],
      "metadata": {
        "id": "HCf1j9I_KEG2"
      },
      "execution_count": 122,
      "outputs": []
    },
    {
      "cell_type": "code",
      "source": [
        "# dataset"
      ],
      "metadata": {
        "id": "dGIN7LBPLbd1"
      },
      "execution_count": 123,
      "outputs": []
    },
    {
      "cell_type": "code",
      "source": [
        "dataset[\"idprod\"] = dataset['reviewerID'].astype(str) +\" \"+ dataset[\"asin\"].astype(str)"
      ],
      "metadata": {
        "id": "a7ihWkz9Lcqw"
      },
      "execution_count": 124,
      "outputs": []
    },
    {
      "cell_type": "code",
      "source": [
        "X_train, X_test, y_train, y_test = tts(dataset['idprod'], dataset[\"overall\"], random_state = 10, test_size = 0.2, stratify = dataset['reviewerID'])"
      ],
      "metadata": {
        "id": "vMD1LB3MIX0X"
      },
      "execution_count": 125,
      "outputs": []
    },
    {
      "cell_type": "code",
      "source": [
        "regressor = Pipeline([\n",
        "    ('vect', CountVectorizer(stop_words= \"english\")),\n",
        "    ('tfidf', TfidfTransformer()),\n",
        "    ('classifier', RandomForestRegressor(n_jobs= -1, verbose=True)),\n",
        "    ])"
      ],
      "metadata": {
        "id": "tm1OR4_YI5Tj"
      },
      "execution_count": 126,
      "outputs": []
    },
    {
      "cell_type": "code",
      "source": [
        "custom_recommender = regressor.fit(X_train,y_train)"
      ],
      "metadata": {
        "colab": {
          "base_uri": "https://localhost:8080/"
        },
        "id": "JuE6vc9ZKxWN",
        "outputId": "5b538c9b-ea83-4d23-dd57-c805fba885aa"
      },
      "execution_count": 127,
      "outputs": [
        {
          "output_type": "stream",
          "name": "stderr",
          "text": [
            "[Parallel(n_jobs=-1)]: Using backend ThreadingBackend with 2 concurrent workers.\n",
            "[Parallel(n_jobs=-1)]: Done  46 tasks      | elapsed:    6.2s\n",
            "[Parallel(n_jobs=-1)]: Done 100 out of 100 | elapsed:   13.7s finished\n"
          ]
        }
      ]
    },
    {
      "cell_type": "code",
      "source": [
        "y_predicted = regressor.predict(X_test)"
      ],
      "metadata": {
        "colab": {
          "base_uri": "https://localhost:8080/"
        },
        "id": "weBzz7vvL5YH",
        "outputId": "37c8ad4d-ea13-4a03-83b5-514268f44e50"
      },
      "execution_count": 128,
      "outputs": [
        {
          "output_type": "stream",
          "name": "stderr",
          "text": [
            "[Parallel(n_jobs=2)]: Using backend ThreadingBackend with 2 concurrent workers.\n",
            "[Parallel(n_jobs=2)]: Done  46 tasks      | elapsed:    0.0s\n",
            "[Parallel(n_jobs=2)]: Done 100 out of 100 | elapsed:    0.1s finished\n"
          ]
        }
      ]
    },
    {
      "cell_type": "code",
      "source": [
        "sqrt(mean_squared_error(y_predicted, y_test))"
      ],
      "metadata": {
        "colab": {
          "base_uri": "https://localhost:8080/"
        },
        "id": "yt6BX7WOL3aE",
        "outputId": "7b9ae91d-f60c-4f6e-91a9-fdf8d1620d52"
      },
      "execution_count": 129,
      "outputs": [
        {
          "output_type": "execute_result",
          "data": {
            "text/plain": [
              "0.8614226509572163"
            ]
          },
          "metadata": {},
          "execution_count": 129
        }
      ]
    },
    {
      "cell_type": "code",
      "source": [
        "mean_absolute_error(y_predicted, y_test)"
      ],
      "metadata": {
        "colab": {
          "base_uri": "https://localhost:8080/"
        },
        "id": "KvSttTDjL9ue",
        "outputId": "7ac9d773-05cf-4a12-b75c-3134397b8221"
      },
      "execution_count": 130,
      "outputs": [
        {
          "output_type": "execute_result",
          "data": {
            "text/plain": [
              "0.504825363068179"
            ]
          },
          "metadata": {},
          "execution_count": 130
        }
      ]
    },
    {
      "cell_type": "markdown",
      "source": [
        "## Custom Algorithm, Regressor Using Review Text"
      ],
      "metadata": {
        "id": "_TUVzD5oeqm5"
      }
    },
    {
      "cell_type": "markdown",
      "source": [
        "This method might not necessarily be used as a recommender system as it takes in review text during inference. The prediction results however are much better than the earlier methods in terms of RMSE and MAE"
      ],
      "metadata": {
        "id": "M7fh9abFDEBH"
      }
    },
    {
      "cell_type": "markdown",
      "source": [
        "### Imports"
      ],
      "metadata": {
        "id": "mah4cPO10jNV"
      }
    },
    {
      "cell_type": "code",
      "source": [
        "from sklearn.feature_extraction.text import CountVectorizer, TfidfVectorizer, TfidfTransformer\n",
        "from sklearn.naive_bayes import MultinomialNB\n",
        "from sklearn.tree import DecisionTreeClassifier\n",
        "from sklearn.ensemble import RandomForestRegressor\n",
        "from sklearn.metrics import confusion_matrix\n",
        "from sklearn.model_selection import train_test_split\n",
        "from sklearn.pipeline import Pipeline\n",
        "from sklearn.model_selection import GridSearchCV\n",
        "from sklearn.metrics import precision_score, recall_score, f1_score, ndcg_score, accuracy_score, mean_squared_error, mean_absolute_error"
      ],
      "metadata": {
        "id": "ViZdtdnwe64v"
      },
      "execution_count": 131,
      "outputs": []
    },
    {
      "cell_type": "code",
      "source": [
        "dataset = pd.read_csv('/content/drive/MyDrive/INFORMATION RETRIEVAL/HW2 RECOMMENDATION SYSTEM/dataset.csv')"
      ],
      "metadata": {
        "id": "mrqGcW2U0lBV"
      },
      "execution_count": 132,
      "outputs": []
    },
    {
      "cell_type": "code",
      "source": [
        "dataset = dataset.iloc[:10000, :]"
      ],
      "metadata": {
        "id": "7wvhNmhd0qwg"
      },
      "execution_count": 133,
      "outputs": []
    },
    {
      "cell_type": "code",
      "source": [
        "dataset = dataset.dropna()"
      ],
      "metadata": {
        "id": "n8YbIJuQ1pMS"
      },
      "execution_count": 134,
      "outputs": []
    },
    {
      "cell_type": "code",
      "source": [
        "X_train, X_test, y_train, y_test = train_test_split(dataset[\"reviewText\"], dataset[\"overall\"],random_state = 42, test_size = 0.2)"
      ],
      "metadata": {
        "id": "9CUnASw-04FG"
      },
      "execution_count": 135,
      "outputs": []
    },
    {
      "cell_type": "code",
      "source": [
        "classifier = Pipeline([\n",
        "    ('vect', CountVectorizer(stop_words= \"english\")),\n",
        "    ('tfidf', TfidfTransformer()),\n",
        "    ('classifier', RandomForestRegressor(n_jobs= -1, verbose=True)),\n",
        "    ])"
      ],
      "metadata": {
        "id": "4V8UBMkl0xBD"
      },
      "execution_count": 136,
      "outputs": []
    },
    {
      "cell_type": "code",
      "source": [
        "model = classifier.fit(X_train,y_train)"
      ],
      "metadata": {
        "colab": {
          "base_uri": "https://localhost:8080/"
        },
        "id": "4pAut0kM1FmG",
        "outputId": "d6c61150-5213-4768-d0c2-9199eeb986f7"
      },
      "execution_count": 137,
      "outputs": [
        {
          "output_type": "stream",
          "name": "stderr",
          "text": [
            "[Parallel(n_jobs=-1)]: Using backend ThreadingBackend with 2 concurrent workers.\n",
            "[Parallel(n_jobs=-1)]: Done  46 tasks      | elapsed:  1.4min\n",
            "[Parallel(n_jobs=-1)]: Done 100 out of 100 | elapsed:  2.9min finished\n"
          ]
        }
      ]
    },
    {
      "cell_type": "code",
      "source": [
        "y_predicted = model.predict(X_test)"
      ],
      "metadata": {
        "colab": {
          "base_uri": "https://localhost:8080/"
        },
        "id": "CkBJ3FwA3gqY",
        "outputId": "933bcc35-216f-4846-a8b2-fef6292f2c6b"
      },
      "execution_count": 138,
      "outputs": [
        {
          "output_type": "stream",
          "name": "stderr",
          "text": [
            "[Parallel(n_jobs=2)]: Using backend ThreadingBackend with 2 concurrent workers.\n",
            "[Parallel(n_jobs=2)]: Done  46 tasks      | elapsed:    0.1s\n",
            "[Parallel(n_jobs=2)]: Done 100 out of 100 | elapsed:    0.1s finished\n"
          ]
        }
      ]
    },
    {
      "cell_type": "code",
      "source": [
        "sqrt(mean_squared_error(y_predicted, y_test))"
      ],
      "metadata": {
        "colab": {
          "base_uri": "https://localhost:8080/"
        },
        "id": "dgqdzQ8w7hsb",
        "outputId": "af141840-6ddb-4b74-bc25-1cfd982f0cc3"
      },
      "execution_count": 141,
      "outputs": [
        {
          "output_type": "execute_result",
          "data": {
            "text/plain": [
              "0.7361102074504452"
            ]
          },
          "metadata": {},
          "execution_count": 141
        }
      ]
    },
    {
      "cell_type": "code",
      "source": [
        "mean_absolute_error(y_predicted, y_test)"
      ],
      "metadata": {
        "colab": {
          "base_uri": "https://localhost:8080/"
        },
        "id": "QVofG-gI96Tk",
        "outputId": "13e49ee9-63ec-44ef-9316-49ea9850099a"
      },
      "execution_count": 140,
      "outputs": [
        {
          "output_type": "execute_result",
          "data": {
            "text/plain": [
              "0.4610654468073699"
            ]
          },
          "metadata": {},
          "execution_count": 140
        }
      ]
    }
  ]
}